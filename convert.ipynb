{
 "cells": [
  {
   "cell_type": "code",
   "execution_count": 1,
   "metadata": {},
   "outputs": [],
   "source": [
    "import pandas as pd\n",
    "import json"
   ]
  },
  {
   "cell_type": "code",
   "execution_count": 2,
   "metadata": {},
   "outputs": [],
   "source": [
    "# with open('test.json', encoding='utf-8-sig') as f_input:\n",
    "#     df = pd.read_json(f_input)\n",
    "\n",
    "# df.to_csv('test.csv', encoding='utf-8', index=False)"
   ]
  },
  {
   "cell_type": "code",
   "execution_count": 3,
   "metadata": {},
   "outputs": [],
   "source": [
    "file = 'test.json'\n",
    "\n",
    "df = pd.read_json(file) # read as datafram \n",
    "data = df.encrypted_test # index at encypted_test variable to get rid of encrypted test\n",
    "df2 = pd.json_normalize(data) #normalize dataframe to get keys as headings\n",
    "df2.to_csv(\"test.csv\", encoding='utf-8', index=False)\n"
   ]
  },
  {
   "cell_type": "code",
   "execution_count": 4,
   "metadata": {},
   "outputs": [
    {
     "data": {
      "text/html": [
       "<div>\n",
       "<style scoped>\n",
       "    .dataframe tbody tr th:only-of-type {\n",
       "        vertical-align: middle;\n",
       "    }\n",
       "\n",
       "    .dataframe tbody tr th {\n",
       "        vertical-align: top;\n",
       "    }\n",
       "\n",
       "    .dataframe thead th {\n",
       "        text-align: right;\n",
       "    }\n",
       "</style>\n",
       "<table border=\"1\" class=\"dataframe\">\n",
       "  <thead>\n",
       "    <tr style=\"text-align: right;\">\n",
       "      <th></th>\n",
       "      <th>Id</th>\n",
       "      <th>data.encrypt_data</th>\n",
       "      <th>data.key</th>\n",
       "      <th>data.sign</th>\n",
       "    </tr>\n",
       "  </thead>\n",
       "  <tbody>\n",
       "    <tr>\n",
       "      <th>0</th>\n",
       "      <td>72e8e17a5206ec5a32b45d59cdbb0fcdccdd6a40e48d16...</td>\n",
       "      <td>922b5c9852d02669fb3f7701386b0683d9bea2e14f8059...</td>\n",
       "      <td>048620f4109d7d231408bcf0ccdf9cadb8b67de4407af8...</td>\n",
       "      <td>d61b1bb2cf9c2b502147be85f179321fd53f42fde65ac9...</td>\n",
       "    </tr>\n",
       "    <tr>\n",
       "      <th>1</th>\n",
       "      <td>d15a6adc5f5fd33d5cdda7646eee0ffb1b32fcf3631a54...</td>\n",
       "      <td>3ece45c8ce8b7108323f58df1f74a853c9ec00354db5f0...</td>\n",
       "      <td>0477975e8aa8be39b2c110f4b73897906cc3bfe436dda9...</td>\n",
       "      <td>436547737812c9d244275a6f98afb02d7c8d2d295e09b8...</td>\n",
       "    </tr>\n",
       "    <tr>\n",
       "      <th>2</th>\n",
       "      <td>dca5992e74c62226c2592fe01740d69e8ba9ec86a3d938...</td>\n",
       "      <td>76729f71643f2043e8b60a72d10c8c86459708312ac552...</td>\n",
       "      <td>04f4c1cf4e8a7e7d5043349bbb650b5a5066ae4e74e20d...</td>\n",
       "      <td>20db4d2a64eba61355f19de53a419ee56fc913751efe45...</td>\n",
       "    </tr>\n",
       "    <tr>\n",
       "      <th>3</th>\n",
       "      <td>d66f10fce5379fa77284dd725660b9e73f9d3f11c1b0f0...</td>\n",
       "      <td>4b5e11b0f744ecf6b831bcd5990650950f0a79e939de31...</td>\n",
       "      <td>047587c0ecfbc1018e8c055a93490429042dc78f1c3654...</td>\n",
       "      <td>e040f0f61be6b1ae0fad7f4c0ce6113c8d3d1666ae0b8e...</td>\n",
       "    </tr>\n",
       "    <tr>\n",
       "      <th>4</th>\n",
       "      <td>f05f8784fc1e7fdd37e2bb8958b4148ad017b0a06d9cd4...</td>\n",
       "      <td>e45e9ed3682d43179297d34f5084d1eefcfc89406052f8...</td>\n",
       "      <td>0452294965d64725337173e5dec8ef53241095202054b4...</td>\n",
       "      <td>8ef24d67cb551f70fba243669dff0a4d811ff8ddc7546d...</td>\n",
       "    </tr>\n",
       "  </tbody>\n",
       "</table>\n",
       "</div>"
      ],
      "text/plain": [
       "                                                  Id  \\\n",
       "0  72e8e17a5206ec5a32b45d59cdbb0fcdccdd6a40e48d16...   \n",
       "1  d15a6adc5f5fd33d5cdda7646eee0ffb1b32fcf3631a54...   \n",
       "2  dca5992e74c62226c2592fe01740d69e8ba9ec86a3d938...   \n",
       "3  d66f10fce5379fa77284dd725660b9e73f9d3f11c1b0f0...   \n",
       "4  f05f8784fc1e7fdd37e2bb8958b4148ad017b0a06d9cd4...   \n",
       "\n",
       "                                   data.encrypt_data  \\\n",
       "0  922b5c9852d02669fb3f7701386b0683d9bea2e14f8059...   \n",
       "1  3ece45c8ce8b7108323f58df1f74a853c9ec00354db5f0...   \n",
       "2  76729f71643f2043e8b60a72d10c8c86459708312ac552...   \n",
       "3  4b5e11b0f744ecf6b831bcd5990650950f0a79e939de31...   \n",
       "4  e45e9ed3682d43179297d34f5084d1eefcfc89406052f8...   \n",
       "\n",
       "                                            data.key  \\\n",
       "0  048620f4109d7d231408bcf0ccdf9cadb8b67de4407af8...   \n",
       "1  0477975e8aa8be39b2c110f4b73897906cc3bfe436dda9...   \n",
       "2  04f4c1cf4e8a7e7d5043349bbb650b5a5066ae4e74e20d...   \n",
       "3  047587c0ecfbc1018e8c055a93490429042dc78f1c3654...   \n",
       "4  0452294965d64725337173e5dec8ef53241095202054b4...   \n",
       "\n",
       "                                           data.sign  \n",
       "0  d61b1bb2cf9c2b502147be85f179321fd53f42fde65ac9...  \n",
       "1  436547737812c9d244275a6f98afb02d7c8d2d295e09b8...  \n",
       "2  20db4d2a64eba61355f19de53a419ee56fc913751efe45...  \n",
       "3  e040f0f61be6b1ae0fad7f4c0ce6113c8d3d1666ae0b8e...  \n",
       "4  8ef24d67cb551f70fba243669dff0a4d811ff8ddc7546d...  "
      ]
     },
     "execution_count": 4,
     "metadata": {},
     "output_type": "execute_result"
    }
   ],
   "source": [
    "df2.head()"
   ]
  },
  {
   "cell_type": "code",
   "execution_count": 87,
   "metadata": {},
   "outputs": [],
   "source": []
  },
  {
   "cell_type": "code",
   "execution_count": 88,
   "metadata": {},
   "outputs": [
    {
     "data": {
      "text/html": [
       "<div>\n",
       "<style scoped>\n",
       "    .dataframe tbody tr th:only-of-type {\n",
       "        vertical-align: middle;\n",
       "    }\n",
       "\n",
       "    .dataframe tbody tr th {\n",
       "        vertical-align: top;\n",
       "    }\n",
       "\n",
       "    .dataframe thead th {\n",
       "        text-align: right;\n",
       "    }\n",
       "</style>\n",
       "<table border=\"1\" class=\"dataframe\">\n",
       "  <thead>\n",
       "    <tr style=\"text-align: right;\">\n",
       "      <th></th>\n",
       "      <th>Id</th>\n",
       "      <th>data</th>\n",
       "    </tr>\n",
       "  </thead>\n",
       "  <tbody>\n",
       "    <tr>\n",
       "      <th>0</th>\n",
       "      <td>727fb24e82902aeedd74b1ea2329606947e4c0c719233d...</td>\n",
       "      <td>{'encrypt_data': '38822309d033182ae0ed407dd9fb...</td>\n",
       "    </tr>\n",
       "    <tr>\n",
       "      <th>1</th>\n",
       "      <td>bebb1fae4f0c6fe778aec902349e2a60c74aa427db77cb...</td>\n",
       "      <td>{'encrypt_data': '740920e70193d3c5cce405fc04a0...</td>\n",
       "    </tr>\n",
       "    <tr>\n",
       "      <th>2</th>\n",
       "      <td>a916deeef821e4ab69626f67b2aa63d80a76f1b5bd7214...</td>\n",
       "      <td>{'encrypt_data': '2e86e7ba28f3ccf3f24189b253c0...</td>\n",
       "    </tr>\n",
       "    <tr>\n",
       "      <th>3</th>\n",
       "      <td>81779ad5a59b62cbd37cd693577fa5a6b5ab1916839949...</td>\n",
       "      <td>{'encrypt_data': '25ba0cba1f226ca34e3b42405f81...</td>\n",
       "    </tr>\n",
       "    <tr>\n",
       "      <th>4</th>\n",
       "      <td>46486ae8c8e933696b39cd4911ab9624c46910352e9220...</td>\n",
       "      <td>{'encrypt_data': '37e5a61ed8ac8dbd3569e0dd1080...</td>\n",
       "    </tr>\n",
       "  </tbody>\n",
       "</table>\n",
       "</div>"
      ],
      "text/plain": [
       "                                                  Id  \\\n",
       "0  727fb24e82902aeedd74b1ea2329606947e4c0c719233d...   \n",
       "1  bebb1fae4f0c6fe778aec902349e2a60c74aa427db77cb...   \n",
       "2  a916deeef821e4ab69626f67b2aa63d80a76f1b5bd7214...   \n",
       "3  81779ad5a59b62cbd37cd693577fa5a6b5ab1916839949...   \n",
       "4  46486ae8c8e933696b39cd4911ab9624c46910352e9220...   \n",
       "\n",
       "                                                data  \n",
       "0  {'encrypt_data': '38822309d033182ae0ed407dd9fb...  \n",
       "1  {'encrypt_data': '740920e70193d3c5cce405fc04a0...  \n",
       "2  {'encrypt_data': '2e86e7ba28f3ccf3f24189b253c0...  \n",
       "3  {'encrypt_data': '25ba0cba1f226ca34e3b42405f81...  \n",
       "4  {'encrypt_data': '37e5a61ed8ac8dbd3569e0dd1080...  "
      ]
     },
     "execution_count": 88,
     "metadata": {},
     "output_type": "execute_result"
    }
   ],
   "source": []
  },
  {
   "cell_type": "code",
   "execution_count": null,
   "metadata": {},
   "outputs": [],
   "source": []
  }
 ],
 "metadata": {
  "kernelspec": {
   "display_name": "Python 3.6.10 64-bit (conda)",
   "language": "python",
   "name": "python361064bitconda8586c9c6494b43fa8999dc66c3045754"
  },
  "language_info": {
   "codemirror_mode": {
    "name": "ipython",
    "version": 3
   },
   "file_extension": ".py",
   "mimetype": "text/x-python",
   "name": "python",
   "nbconvert_exporter": "python",
   "pygments_lexer": "ipython3",
   "version": "3.6.10"
  }
 },
 "nbformat": 4,
 "nbformat_minor": 2
}
