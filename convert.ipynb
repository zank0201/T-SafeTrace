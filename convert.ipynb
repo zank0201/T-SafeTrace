{
 "cells": [
  {
   "cell_type": "code",
   "execution_count": 2,
   "metadata": {},
   "outputs": [],
   "source": [
    "import pandas as pd\n",
    "import json"
   ]
  },
  {
   "cell_type": "code",
   "execution_count": 3,
   "metadata": {},
   "outputs": [],
   "source": [
    "# with open('test.json', encoding='utf-8-sig') as f_input:\n",
    "#     df = pd.read_json(f_input)\n",
    "\n",
    "# df.to_csv('test.csv', encoding='utf-8', index=False)"
   ]
  },
  {
   "cell_type": "code",
   "execution_count": 4,
   "metadata": {},
   "outputs": [],
   "source": [
    "file = 'test.csv'\n",
    "\n",
    "df = pd.read_csv(file) # read as datafram \n",
    "# df = df.iloc[1:]\n",
    "#data = df.encrypted_test # index at encypted_test variable to get rid of encrypted test\n",
    "df2 = df.to_json('testdata.json', orient='records') #normalize dataframe to get keys as headings\n",
    "#df2.to_csv(\"test.csv\", encoding='utf-8', index=False)\n"
   ]
  },
  {
   "cell_type": "code",
   "execution_count": 6,
   "metadata": {},
   "outputs": [],
   "source": [
    "df2"
   ]
  },
  {
   "cell_type": "code",
   "execution_count": null,
   "metadata": {},
   "outputs": [],
   "source": []
  },
  {
   "cell_type": "code",
   "execution_count": 88,
   "metadata": {},
   "outputs": [
    {
     "data": {
      "text/html": [
       "<div>\n",
       "<style scoped>\n",
       "    .dataframe tbody tr th:only-of-type {\n",
       "        vertical-align: middle;\n",
       "    }\n",
       "\n",
       "    .dataframe tbody tr th {\n",
       "        vertical-align: top;\n",
       "    }\n",
       "\n",
       "    .dataframe thead th {\n",
       "        text-align: right;\n",
       "    }\n",
       "</style>\n",
       "<table border=\"1\" class=\"dataframe\">\n",
       "  <thead>\n",
       "    <tr style=\"text-align: right;\">\n",
       "      <th></th>\n",
       "      <th>Id</th>\n",
       "      <th>data</th>\n",
       "    </tr>\n",
       "  </thead>\n",
       "  <tbody>\n",
       "    <tr>\n",
       "      <th>0</th>\n",
       "      <td>727fb24e82902aeedd74b1ea2329606947e4c0c719233d...</td>\n",
       "      <td>{'encrypt_data': '38822309d033182ae0ed407dd9fb...</td>\n",
       "    </tr>\n",
       "    <tr>\n",
       "      <th>1</th>\n",
       "      <td>bebb1fae4f0c6fe778aec902349e2a60c74aa427db77cb...</td>\n",
       "      <td>{'encrypt_data': '740920e70193d3c5cce405fc04a0...</td>\n",
       "    </tr>\n",
       "    <tr>\n",
       "      <th>2</th>\n",
       "      <td>a916deeef821e4ab69626f67b2aa63d80a76f1b5bd7214...</td>\n",
       "      <td>{'encrypt_data': '2e86e7ba28f3ccf3f24189b253c0...</td>\n",
       "    </tr>\n",
       "    <tr>\n",
       "      <th>3</th>\n",
       "      <td>81779ad5a59b62cbd37cd693577fa5a6b5ab1916839949...</td>\n",
       "      <td>{'encrypt_data': '25ba0cba1f226ca34e3b42405f81...</td>\n",
       "    </tr>\n",
       "    <tr>\n",
       "      <th>4</th>\n",
       "      <td>46486ae8c8e933696b39cd4911ab9624c46910352e9220...</td>\n",
       "      <td>{'encrypt_data': '37e5a61ed8ac8dbd3569e0dd1080...</td>\n",
       "    </tr>\n",
       "  </tbody>\n",
       "</table>\n",
       "</div>"
      ],
      "text/plain": [
       "                                                  Id  \\\n",
       "0  727fb24e82902aeedd74b1ea2329606947e4c0c719233d...   \n",
       "1  bebb1fae4f0c6fe778aec902349e2a60c74aa427db77cb...   \n",
       "2  a916deeef821e4ab69626f67b2aa63d80a76f1b5bd7214...   \n",
       "3  81779ad5a59b62cbd37cd693577fa5a6b5ab1916839949...   \n",
       "4  46486ae8c8e933696b39cd4911ab9624c46910352e9220...   \n",
       "\n",
       "                                                data  \n",
       "0  {'encrypt_data': '38822309d033182ae0ed407dd9fb...  \n",
       "1  {'encrypt_data': '740920e70193d3c5cce405fc04a0...  \n",
       "2  {'encrypt_data': '2e86e7ba28f3ccf3f24189b253c0...  \n",
       "3  {'encrypt_data': '25ba0cba1f226ca34e3b42405f81...  \n",
       "4  {'encrypt_data': '37e5a61ed8ac8dbd3569e0dd1080...  "
      ]
     },
     "execution_count": 88,
     "metadata": {},
     "output_type": "execute_result"
    }
   ],
   "source": []
  },
  {
   "cell_type": "code",
   "execution_count": null,
   "metadata": {},
   "outputs": [],
   "source": []
  }
 ],
 "metadata": {
  "kernelspec": {
   "display_name": "Python 3 (ipykernel)",
   "language": "python",
   "name": "python3"
  },
  "language_info": {
   "codemirror_mode": {
    "name": "ipython",
    "version": 3
   },
   "file_extension": ".py",
   "mimetype": "text/x-python",
   "name": "python",
   "nbconvert_exporter": "python",
   "pygments_lexer": "ipython3",
   "version": "3.9.12"
  }
 },
 "nbformat": 4,
 "nbformat_minor": 2
}
